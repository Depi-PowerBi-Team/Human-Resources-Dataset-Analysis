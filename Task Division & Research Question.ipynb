{
 "cells": [
  {
   "attachments": {},
   "cell_type": "markdown",
   "id": "0dd09c67-a901-449e-a208-b75166bf94bc",
   "metadata": {},
   "source": [
    "# <center>**Task Division**<center/>"
   ]
  },
  {
   "cell_type": "markdown",
   "id": "75e7ff67-1d98-4ac3-824a-a9844dab362e",
   "metadata": {},
   "source": [
    "**Objective:** To divide the project work into adequate sub-tasks, distribute them equitably among the 5 group members, and ensure timely reporting."
   ]
  },
  {
   "cell_type": "markdown",
   "id": "757bbe1f-4906-45d8-818a-d5c47ab8263e",
   "metadata": {},
   "source": [
    "## **Member 1:** Project Lead & Data Engineer"
   ]
  },
  {
   "cell_type": "markdown",
   "id": "7b1c8c98-c72a-4e06-83dd-6414ff0aa343",
   "metadata": {},
   "source": [
    "- **Primary responsibility for Week 1: Data Cleaning and Preprocessing.**"
   ]
  },
  {
   "cell_type": "markdown",
   "id": "96d12a05-9a04-43a6-98e6-bf6caf7d58cf",
   "metadata": {},
   "source": [
    "1. **Data Integration:** Connect and integrate all provided data tables within Power BI's Power Query editor.\n",
    "\n",
    "2. **Data Cleansing:** Clean the raw data by handling missing values, standardizing formats (e.g., HireDate), and correcting data types to ensure accuracy and consistency.\n",
    "\n",
    "3. **Data Modeling:** Establish and manage relationships between tables (e.g., linking EmployeeID across fact and dimension tables) to build a robust and efficient data model.\n",
    "\n",
    "4. **Feature Engineering:** Create necessary calculated columns, measures, and hierarchies to support the planned analysis and dashboard visualizations.\n",
    "\n",
    "5. **Quality Assurance:** Validate the dataset to ensure it is well-structured, accurate, and fully prepared for in-depth analysis.\n",
    "\n",
    "6. **Reporting & Documentation:** Deliver the finalized, cleaned dataset and comprehensive \"Data Preprocessing Documentation,\" while proactively reporting on the data model's readiness and any challenges encountered."
   ]
  },
  {
   "cell_type": "markdown",
   "id": "5052062f-f8fc-48ec-84c1-f98eb1003aa6",
   "metadata": {},
   "source": [
    "## **Member 2:** Data Analyst"
   ]
  },
  {
   "cell_type": "markdown",
   "id": "b53f72a5-4ee1-49c7-9f8e-7573f82c896b",
   "metadata": {},
   "source": [
    "- **Primary responsibility for Week 2: Analysis Questions Phase.**"
   ]
  },
  {
   "cell_type": "markdown",
   "id": "680b80b9-96cf-4118-b4e3-fe8c2428a640",
   "metadata": {},
   "source": [
    "1. **Question Ideation:** Brainstorm a comprehensive list of potential business questions across key HR domains (e.g., Attrition, Satisfaction, Compensation, Diversity, Performance).\n",
    "2. **Question Prioritization:** Evaluate and prioritize the questions based on their potential value and impact for HR decision-makers.\n",
    "3. **Technical Validation:** Collaborate with the Data Engineer to ensure the cleaned data model can support the chosen questions.\n",
    "4. **Hypothesis Testing:** Conduct exploratory data analysis (EDA) within Power BI to preliminarily test the hypotheses underlying the key questions.\n",
    "5. **Reporting:** Deliver the final \"Set of analysis questions\" and explaining the rationale behind their selection."
   ]
  },
  {
   "cell_type": "markdown",
   "id": "a6096e1e-40d4-4d21-8445-b80d707227a5",
   "metadata": {},
   "source": [
    "## **Member 3 & 4:** Dashboard Developers (Visualization Specialists)"
   ]
  },
  {
   "cell_type": "markdown",
   "id": "d31e284a-b43a-452d-910e-cbde51e80a3d",
   "metadata": {},
   "source": [
    "- **Primary responsibility for Week 3: Build Dashboard.**"
   ]
  },
  {
   "cell_type": "markdown",
   "id": "84223237-fe65-4f6a-9b16-1e271f3de94d",
   "metadata": {},
   "source": [
    "1. **Dashboard Design:** Architect the overall dashboard layout, prioritizing clarity, visual impact, and user-friendliness for the end-user.\n",
    "2. **Visualization Development:** Build interactive and insightful visualizations that directly answer the defined research questions.\n",
    "3. **Interactivity Implementation:** Incorporate filters, slicers, and tooltips to create a dynamic and user-driven analytical experience.\n",
    "4. **Aesthetic Standardization:** Apply and maintain a consistent visual theme, including formatting, color palette, and branding throughout the dashboard.\n",
    "5. **Reporting & Demonstration:** Responsible for presenting the functional dashboard and articulating the rationale behind its design and functionality."
   ]
  },
  {
   "cell_type": "markdown",
   "id": "07735b9e-45aa-4d47-97bb-78d2a4b3548c",
   "metadata": {},
   "source": [
    "## **Member 5:** Final Report and Presentation Coordinator"
   ]
  },
  {
   "cell_type": "markdown",
   "id": "b0b2475f-b270-4257-a073-f1d8e44948ea",
   "metadata": {},
   "source": [
    "- **Primary responsibility for Week 4: Final Presentation and Report.**"
   ]
  },
  {
   "cell_type": "markdown",
   "id": "4b8e1e64-5aa9-4f53-838f-d2e8114a84d2",
   "metadata": {},
   "source": [
    "1. **Process Documentation:** Meticulously document the project's methodology, key challenges encountered, and the analytical process.\n",
    "2. **Insight Synthesis:** Analyze and summarize the key findings and actionable insights derived from the data analysis.\n",
    "3. **Report Compilation:** Author the final written report, incorporating inputs from all team members and organizing the results in a clear and logical manner.\n",
    "4. **Presentation Development:** Design and create the final presentation slides that effectively summarize the project's work and conclusions.\n",
    "5. **Project Coordination:** Responsible for the final deliverables (report and presentation) and for coordinating the team's rehearsal for the final presentation."
   ]
  },
  {
   "cell_type": "markdown",
   "id": "ac7e70b9-810a-48da-bcbc-f93cd3d5d492",
   "metadata": {},
   "source": [
    "## **Overall Team Collaboration:** Final Report and Presentation Coordinator"
   ]
  },
  {
   "cell_type": "markdown",
   "id": "fdf165b9-3101-495e-bbe8-bd694d0db2f4",
   "metadata": {},
   "source": [
    "1. While primary development of the report and presentation was assigned to a designated coordinator, all team members collaboratively presented the final deliverable.\n",
    "2. All members actively participated in the Q&A session, ensuring a comprehensive and unified response to questions.\n",
    "3. The division of labor focused on primary responsibilities; however, all members participated in brainstorming sessions for key steps—including question formulation, dashboard design, and analysis interpretation—to ensure full team alignment and input throughout the project lifecycle."
   ]
  },
  {
   "cell_type": "markdown",
   "id": "abcf02b6-49f4-40bd-963c-8e4eab34a896",
   "metadata": {},
   "source": [
    "# <center>**Research Question, Problem Definition**<center/>"
   ]
  },
  {
   "cell_type": "markdown",
   "id": "a45184f3-358b-4fd0-890d-3094eeaab82f",
   "metadata": {},
   "source": [
    "## **Problem Definition**"
   ]
  },
  {
   "cell_type": "markdown",
   "id": "76111326-75fb-46af-ab29-da5c3545b6c1",
   "metadata": {},
   "source": [
    "- Human Resources departments hold a wealth of data on their employees, but this data is often underutilized. Without transforming this data into actionable insights, organizations risk increased employee turnover, lower productivity, poor employee morale, and inefficient allocation of resources like training and compensation. This project aims to leverage data analytics to solve core HR challenges by identifying key factors influencing employee attrition, satisfaction, and performance, thereby empowering decision-makers to create targeted strategies for improving employee retention and overall organizational health.\n",
    "- **The problem addressed in this project is:**\n",
    "    - How can employee data (demographics, performance ratings, satisfaction levels, and compensation) be analyzed to provide actionable insights for reducing attrition, improving employee satisfaction, and enhancing decision-making in human resource management?\n",
    "- The insights derived from this analysis are directly significant to organizational decision-makers (HR Managers, Department Heads, Executives) by:\n",
    "    - **Reducing Costs:** High employee turnover is extremely costly due to recruitment, onboarding, and lost productivity.\n",
    "    - **Improving Strategy:** Informing data-driven policies on compensation, benefits, training programs, and hiring practices.\n",
    "    - **Enhancing Culture:** Identifying drivers of job satisfaction and work-life balance to improve overall employee experience.\n",
    "    - **Boosting Performance:** Understanding the link between satisfaction, training, and performance to optimize workforce output."
   ]
  },
  {
   "cell_type": "markdown",
   "id": "a6103f0b-3628-431c-82ab-3d3ed3dfa8b3",
   "metadata": {},
   "source": [
    "## **Research Questions**"
   ]
  },
  {
   "attachments": {},
   "cell_type": "markdown",
   "id": "873a739e-987c-4660-8206-634c4e311f93",
   "metadata": {},
   "source": [
    "1. **Attrition Analysis:**\n",
    "    - What are the key factors that most strongly predict employee attrition?\n",
    "    - Is there a significant difference in attrition rates between different departments, job roles, or marital statuses?\n",
    "    - How do factors like `DistanceFromHome`, `Overtime`, `Salary`, and `StockOptionLevel` influence an employee's decision to leave?\n",
    "    - Does business travel frequency impact employee satisfaction or attrition?\n",
    "    - What patterns exist between performance ratings and employee attrition?\n",
    "    - Are marital status and gender linked to different levels of attrition or satisfaction?\n",
    "    - Is there a correlation between education level and job role with attrition?\n",
    "    - Which factors (demographics, compensation, performance) are the strongest predictors of attrition?\n",
    "\n",
    "2. **Satisfaction & Performance:**\n",
    "    - What is the relationship between `JobSatisfaction`/`EnvironmentSatisfaction` and `JobRole` or `Department`?\n",
    "    - Does a higher `WorkLifeBalance` score correlate with higher `JobSatisfaction` or lower `Attrition`?\n",
    "    - Is there a gap between `SelfRating` and `ManagerRating`? Does the size of this gap correlate with `JobSatisfaction`?\n",
    "    - What is the relationship between employees’ age and their satisfaction levels?\n",
    "    - How does work-life balance vary across departments and age groups?\n",
    "\n",
    "3. **Compensation & Benefits:**\n",
    "    - How is `Salary` distributed across different `Departments`, `JobRoles`, and `Genders`? Are there any noticeable disparities?\n",
    "    - Is there a correlation between `YearsAtCompany`/`YearsSinceLastPromotion` and `Salary`? (Pay progression analysis)\n",
    "    - Does having `OverTime` significantly impact an employee's `Salary` or `StockOptionLevel`?\n",
    "\n",
    "4. **Diversity & Inclusion:**\n",
    "    - What is the demographic composition (`Gender`, `Ethnicity`, `Age`) of the company across different departments and job roles?\n",
    "    - Is there a relationship between `Gender` or `Ethnicity` and `Salary`, `Promotion` (`YearsSinceLastPromotion`), or `PerformanceRating`?\n",
    "\n",
    "5. **Career Development:**\n",
    "    - What is the typical career path (`YearsInMostRecentRole`, `YearsSinceLastPromotion`) within the company?\n",
    "    - Do employees who take more `TrainingOpportunitiesTaken` receive promotions faster or have higher performance ratings?\n",
    "    - How does `EducationField` align with current `JobRole` and does this alignment impact `JobSatisfaction`?\n",
    "    - How do training opportunities relate to employees’ performance ratings and satisfaction?\n",
    "\n",
    "6. **General HR Health:**\n",
    "    - What is the overall tenure and age distribution of our workforce?\n",
    "    - How many employees are at risk of burnout (high `Overtime`, low `WorkLifeBalance`)?\n",
    "    - Which managers (`YearsWithCurrManager`) have teams with higher satisfaction and lower attrition rates?"
   ]
  }
 ],
 "metadata": {
  "kernelspec": {
   "display_name": "Python 3 (ipykernel)",
   "language": "python",
   "name": "python3"
  },
  "language_info": {
   "codemirror_mode": {
    "name": "ipython",
    "version": 3
   },
   "file_extension": ".py",
   "mimetype": "text/x-python",
   "name": "python",
   "nbconvert_exporter": "python",
   "pygments_lexer": "ipython3",
   "version": "3.12.2"
  }
 },
 "nbformat": 4,
 "nbformat_minor": 5
}
